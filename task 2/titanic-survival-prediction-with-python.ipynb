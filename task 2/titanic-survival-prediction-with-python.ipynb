{
 "cells": [
  {
   "cell_type": "markdown",
   "metadata": {
    "_uuid": "da3173fee2fb9aad4bc433d025f790dacfcb72f2",
    "collapsed": true
   },
   "source": [
    "**Titanic Survival Predictions**\n",
    "\n",
    "I am new to data science and machine learning and this is my first attempt at Kaggle where I will be trying to predict the possibility of a passenger surviving on the Titanic using the *Titanic: Machine Learning from Disaster dataset*\n",
    "\n",
    "We will tackle this problem with the following steps\n",
    "1. Importing the packages and libraries.\n",
    "2. Reading and Exploring the Data.\n",
    "3. Data Analysis.\n",
    "4. Visual Data Analysis.\n",
    "5. Cleaning the Data\n",
    "6. Feature Engineering\n",
    "7. Machine learning\n",
    "8. Submitting our predictions\n",
    "\n",
    "I would love to see your feedback in the comments section!"
   ]
  },
  {
   "cell_type": "markdown",
   "metadata": {
    "_uuid": "54cbe4e8340bc21d0f95490dd107c6f41ca23142"
   },
   "source": [
    "**1)  Importing the packages and libraries**\n",
    "\n",
    "let's start off by importing the necessary libraries for data analysis and visualisation"
   ]
  },
  {
   "cell_type": "code",
   "execution_count": 72,
   "metadata": {
    "_cell_guid": "79c7e3d0-c299-4dcb-8224-4455121ee9b0",
    "_uuid": "d629ff2d2480ee46fbb7e2d37f6b5fab8052498a",
    "collapsed": true
   },
   "outputs": [],
   "source": [
    "#lets load the required packages and libraries for data analysis\n",
    "import numpy as np \n",
    "import pandas as pd\n",
    "import re\n",
    "import warnings\n",
    "warnings.filterwarnings('ignore')\n",
    "\n",
    "#For data visualization\n",
    "import seaborn as sns\n",
    "import matplotlib.pyplot as plt\n",
    "%matplotlib inline\n"
   ]
  },
  {
   "cell_type": "markdown",
   "metadata": {
    "_uuid": "8ed4b6d08e94b2177f2a67d979553e2e4606265f"
   },
   "source": [
    "**2) Reading and exploring the data**\n",
    "\n",
    " let's read the training and testing datasets from the provided CSV files and use the ***.head()*** and ***.info()*** methods to take a glimpse at our data"
   ]
  },
  {
   "cell_type": "code",
   "execution_count": 73,
   "metadata": {
    "_uuid": "cdf53ad9e2624113f2dd673753ff6297167ba9c4",
    "collapsed": true
   },
   "outputs": [],
   "source": [
    "#importing the training and test datasets\n",
    "train_df = pd.read_csv('../input/train.csv')\n",
    "\n",
    "test_df = pd.read_csv('../input/test.csv')                                                               \n",
    "                       "
   ]
  },
  {
   "cell_type": "code",
   "execution_count": 74,
   "metadata": {
    "_uuid": "1acdc6cb9f6a23616c3009a3115aa3b4fc5a6eed"
   },
   "outputs": [],
   "source": [
    "#lets take a look at our training data\n",
    "train_df.head()"
   ]
  },
  {
   "cell_type": "code",
   "execution_count": 75,
   "metadata": {
    "_uuid": "e6e415fddaeb1c501aeab5b16162101b102a8d4f"
   },
   "outputs": [],
   "source": [
    "# Now the test dataset\n",
    "test_df.head()"
   ]
  },
  {
   "cell_type": "markdown",
   "metadata": {
    "_uuid": "c7af16a1f99e22a807f2d7b34171e35e9c57a09a"
   },
   "source": [
    "The Survived column is missing here because that is what we are supposed to predict with our model."
   ]
  },
  {
   "cell_type": "code",
   "execution_count": 76,
   "metadata": {
    "_uuid": "cf3bf44516383a939e446b4098e5c46359653f1b",
    "scrolled": true
   },
   "outputs": [],
   "source": [
    "# lets see what kind of data we have to work with\n",
    "train_df.info()"
   ]
  },
  {
   "cell_type": "markdown",
   "metadata": {
    "_uuid": "fef1e37e8f9631f351f5101e9390d7babd445ce0"
   },
   "source": [
    "From above, we can see that we  have 891 rows or samples and  12 columns of types  *int64* , *object* and *float64 *to work with"
   ]
  },
  {
   "cell_type": "markdown",
   "metadata": {
    "_uuid": "7fc9c5656857fc796ef20452e1c56f4f23abb2e9"
   },
   "source": [
    "**3) Data analysis :**\n",
    "\n",
    "Now let's see what features we have to train our model on and what useful insights we can obtain from them.  \n"
   ]
  },
  {
   "cell_type": "code",
   "execution_count": 77,
   "metadata": {
    "_uuid": "adc7cc2fa38e4f38f4663f87e96c9f45b4b21aa6"
   },
   "outputs": [],
   "source": [
    "#printing out a list of all the columns in our training dataset\n",
    "train_df.columns"
   ]
  },
  {
   "cell_type": "markdown",
   "metadata": {
    "_uuid": "bcd6efc56fec1b8b8ccb0d75f7608eea8fe9c839",
    "collapsed": true
   },
   "source": [
    "** Types of features : **\n",
    "\n",
    "* Categorical : Pclass, Sex, Embarked, Survived\n",
    "* Continuous : Age, Fare, Sibsp, Parch, PassengerId\n",
    "* Alphanumeric: Ticket, Cabin, Name"
   ]
  },
  {
   "cell_type": "markdown",
   "metadata": {
    "_uuid": "5c2cf46ed184e084f5a15e6af4d14428c2f2d219"
   },
   "source": []
  },
  {
   "cell_type": "markdown",
   "metadata": {
    "_uuid": "f8a2539bf26ee76950d06ceeaafb2298d156fc7b"
   },
   "source": [
    "Now that we know what kind of features we are going to work with, let's take a look what information they provide us:"
   ]
  },
  {
   "cell_type": "code",
   "execution_count": 78,
   "metadata": {
    "_uuid": "90e1c50f7bf034cf26a90bc3fae147dfe78c7d81"
   },
   "outputs": [],
   "source": [
    "#printing summary statistics\n",
    "train_df.describe()"
   ]
  },
  {
   "cell_type": "markdown",
   "metadata": {
    "_uuid": "6085e6151b756b6d9f424c5e0d43a147f0107722"
   },
   "source": [
    "** Observations from above summary statistics: **\n",
    "* There are a total of 891 passengers in our training dataset.\n",
    "* Since the Survived column has dicrete data, the mean gives us the number of people survived from 891 i.e. 38%.\n",
    "* Most people belonged to Pclass = 3\n",
    "* The maximum Fare paid for a ticket was 512 however the fare prices varied a lot as we can see from the standard deviation of 49"
   ]
  },
  {
   "cell_type": "code",
   "execution_count": 79,
   "metadata": {
    "_uuid": "d0927c2f9cdf316865c9ea8ce5f28727788dace4"
   },
   "outputs": [],
   "source": [
    "train_df.describe(include='O')"
   ]
  },
  {
   "cell_type": "markdown",
   "metadata": {
    "_uuid": "66ed8953b49ceeb40f0be66a1e433ea12cdcc4cd"
   },
   "source": [
    "Taking a look at our categorical features we find that: \n",
    "* The passneger column has two sexes with male being the most common.\n",
    "* Cabin feature has many duplicate values.\n",
    "* Embarked has three possible values with most passengers embarking from Southhampton.\n",
    "* Names of all passengers are unique.\n",
    "* Ticket column also has a fair amount of duplicate values.\n"
   ]
  },
  {
   "cell_type": "code",
   "execution_count": 80,
   "metadata": {
    "_uuid": "b4c8c281824d05296f260f82ee29ee85c2a1243b"
   },
   "outputs": [],
   "source": [
    "#Finding the percantage of missing values in train dataset\n",
    "train_df.isnull().sum()/ len(train_df) *100"
   ]
  },
  {
   "cell_type": "code",
   "execution_count": 81,
   "metadata": {
    "_uuid": "f585235336b82b08c8e87d78ee3607d9e7818e7d"
   },
   "outputs": [],
   "source": [
    "#Finding the percentage of Null values in test dataset\n",
    "test_df.isnull().sum()/ len(test_df) *100"
   ]
  },
  {
   "cell_type": "markdown",
   "metadata": {
    "_uuid": "aaad212cbeccd6805890e296125cbf9b166432a6"
   },
   "source": [
    "As we can see the Age column and Embarked column are missing values that we will need to fill.\n",
    "The Cabin coulmn has 77% and 78% missing values  in train and test datasets respectively hence, it might be worth considering dropping that feature."
   ]
  },
  {
   "cell_type": "markdown",
   "metadata": {
    "_uuid": "42d1056ca02efdb0330a9cb51e3ad8c9401e9ff3"
   },
   "source": [
    "** 4) Visual Data Analysis**\n",
    "\n",
    "It's time to visualize our data and try to draw some inferences from it"
   ]
  },
  {
   "cell_type": "markdown",
   "metadata": {
    "_uuid": "087e6f019ec62b6fb3cd3086e97b4b614bc92084"
   },
   "source": [
    "** Sex feature**\n",
    "\n",
    "let's begin by exploring the Sex column in our trainig data set"
   ]
  },
  {
   "cell_type": "code",
   "execution_count": 82,
   "metadata": {
    "_uuid": "1faf4cf53a3b03056a61b0511958751952e46a42"
   },
   "outputs": [],
   "source": [
    "sns.countplot('Sex',data=train_df)\n",
    "train_df['Sex'].value_counts()"
   ]
  },
  {
   "cell_type": "markdown",
   "metadata": {
    "_uuid": "45fea51e2b6f2abb4d458d9b5989f975139b009e"
   },
   "source": [
    "The number of males on board were clearly more than the female. Now let's see how their survival percentages were:"
   ]
  },
  {
   "cell_type": "code",
   "execution_count": 83,
   "metadata": {
    "_uuid": "95f40aefaa6b3b35cea9cbd7e1f2a6a20a72ed40"
   },
   "outputs": [],
   "source": [
    "#Comparing the Sex feature against Survived\n",
    "sns.barplot(x='Sex',y='Survived',data=train_df)\n",
    "train_df.groupby('Sex',as_index=False).Survived.mean()"
   ]
  },
  {
   "cell_type": "markdown",
   "metadata": {
    "_uuid": "6c4d23983a418fbcd57dae3663bacddf378ba7ac"
   },
   "source": [
    "As one would assume the number of female who survived was much more than the males who survived i.e. 74%  females as against to 18% males"
   ]
  },
  {
   "cell_type": "markdown",
   "metadata": {
    "_uuid": "99ad9863e0192d39e6b25df8793db533acdbb36c"
   },
   "source": [
    "How did the Class of each passenger affect their survival?"
   ]
  },
  {
   "cell_type": "code",
   "execution_count": 84,
   "metadata": {
    "_uuid": "ce060b776c9ec19cb3cdc70fb8941d420e271fad"
   },
   "outputs": [],
   "source": [
    "#Comparing the Pclass feature against Survived\n",
    "sns.barplot(x='Pclass',y='Survived',data=train_df)\n",
    "train_df[[\"Pclass\", \"Survived\"]].groupby(['Pclass'], as_index=False).mean().sort_values(by='Survived', ascending=False)"
   ]
  },
  {
   "cell_type": "markdown",
   "metadata": {
    "_uuid": "e5c570ef01a65cc54327d3bdead82025c9d6c799"
   },
   "source": [
    "Clearly Class had an effect on survival of each passenger with the percentages of survival being 62.96%, 47.28%, 24.23% for Pclass 1, 2 and 3 respectively.\n",
    "Thus, belonging to Pclass = 1 had a huge advantage. "
   ]
  },
  {
   "cell_type": "markdown",
   "metadata": {
    "_uuid": "e1c18b20aac0cbf4b5b84d8f3ad24ea471b024ef"
   },
   "source": [
    "Did the port from which the passengers embarked have an effect on their Survival?"
   ]
  },
  {
   "cell_type": "code",
   "execution_count": 85,
   "metadata": {
    "_uuid": "35f3753d11d58c24aa4d6cd6e68bfd22eb1b5ee6"
   },
   "outputs": [],
   "source": [
    "#Comparing the Embarked feature against Survived\n",
    "sns.barplot(x='Embarked',y='Survived',data=train_df)\n",
    "train_df[[\"Embarked\", \"Survived\"]].groupby(['Embarked'], as_index=False).mean().sort_values(by='Survived', ascending=False)"
   ]
  },
  {
   "cell_type": "markdown",
   "metadata": {
    "_uuid": "ba40ed2c06a15ef5a1b00d3349aa770984ae9d10"
   },
   "source": [
    "It seems that the passengers that embarked from port Cherbourg had a higher rate of Survival at 55%. This could be either due to their Sex or socio-economic class.\n",
    "Let's move forward to see the effect of having parents or children on-board."
   ]
  },
  {
   "cell_type": "code",
   "execution_count": 86,
   "metadata": {
    "_uuid": "a6c2ca8ff240f890db44c5e087bff4a3ebb8c330"
   },
   "outputs": [],
   "source": [
    "sns.barplot(x='Parch',y='Survived',data=train_df)\n",
    "train_df[[\"Parch\", \"Survived\"]].groupby(['Parch'], as_index=False).mean().sort_values(by='Survived', ascending=False)"
   ]
  },
  {
   "cell_type": "markdown",
   "metadata": {
    "_uuid": "de27505dc010bfc15b70d12b9a26ab47fee17f44"
   },
   "source": [
    "Looks like passengers who had either 1, 2 or 3  had a higher possibility of surviving than the ones had none. However having more than 3 made the possibility even lesser.\n",
    "Moving on to the effect of having spouse or siblings on Survival:"
   ]
  },
  {
   "cell_type": "code",
   "execution_count": 87,
   "metadata": {
    "_uuid": "16a3b4f8a607be8282e268e461bd5c9463c41614"
   },
   "outputs": [],
   "source": [
    "sns.barplot(x='SibSp',y='Survived',data=train_df)\n",
    "train_df[[\"SibSp\", \"Survived\"]].groupby(['SibSp'], as_index=False).mean().sort_values(by='Survived', ascending=False)"
   ]
  },
  {
   "cell_type": "markdown",
   "metadata": {
    "_uuid": "2a22ca09e29c90a13292a7d533bed22edf5e859a"
   },
   "source": [
    "It seems that having a spouse or 1 sibling had a positive effect on Survival as compared to being alone. Though the chances of survival go down with the number of siblings after 1."
   ]
  },
  {
   "cell_type": "markdown",
   "metadata": {
    "_uuid": "93adc95dd7a17918a5cb7fc0b93ea74af90df89a"
   },
   "source": [
    "The Age column has some missing values. We will take care of that later when we clean our training data.\n",
    "First we shall proceed by:\n",
    "1.  Plotting a histogram of the age values .\n",
    "2. Taking a look at the median value of age as well as the spread."
   ]
  },
  {
   "cell_type": "code",
   "execution_count": 88,
   "metadata": {
    "_uuid": "c416c66beb6b8e5e5e9f587a176e6ff2ac3f6edf"
   },
   "outputs": [],
   "source": [
    "train_df.Age.hist(bins=10,color='teal')\n",
    "plt.xlabel('Age')\n",
    "plt.ylabel('Count')\n",
    "plt.show()\n",
    "print(\"The Median age of passengers is :\", int(train_df.Age.median()))\n",
    "print(\"The Standard Deviation age of passengers is :\", int(train_df.Age.std()))"
   ]
  },
  {
   "cell_type": "markdown",
   "metadata": {
    "_uuid": "27604041fa28d21fceeb490b7cc80d6c03ea9ff3"
   },
   "source": [
    "It is obvious to assume that younger individuals were more likely to survive, however we should test our assumption before we proceed."
   ]
  },
  {
   "cell_type": "code",
   "execution_count": 89,
   "metadata": {
    "_uuid": "f6c4b31271a89710d3664e98c9f84f82689ab90d"
   },
   "outputs": [],
   "source": [
    "sns.lmplot(x='Age',y='Survived',data=train_df,palette='Set1')"
   ]
  },
  {
   "cell_type": "markdown",
   "metadata": {
    "_uuid": "f045da56e8a919c4cc0c744f9739b855908e28f9"
   },
   "source": [
    "Our assumption was right, younger individuals were more likely to survive."
   ]
  },
  {
   "cell_type": "markdown",
   "metadata": {
    "_uuid": "f8eba080fd5f78944007e0b85def210b8ae62352"
   },
   "source": [
    "From the sex column we saw that there was a significant difference in the percentage of men and women that survived.\n",
    "Does sex also play a role when it comes to surviving the disaster along with the age?"
   ]
  },
  {
   "cell_type": "code",
   "execution_count": 90,
   "metadata": {
    "_uuid": "576e947ba72210f71781348a564e4ca235993f4e"
   },
   "outputs": [],
   "source": [
    "sns.lmplot(x='Age',y='Survived',data=train_df,hue='Sex',palette='Set1')"
   ]
  },
  {
   "cell_type": "markdown",
   "metadata": {
    "_uuid": "10948d548a00b5e70b26c35f93e10ead918b5171"
   },
   "source": [
    "Interestingly, age has an opposite effect on the survival in men and women. The chances of survival increase as the age of women increases.\n",
    "\n",
    "Takeaway: Age feature can have a different  effect on the outcome depending on the sex of the passenger. Perhaps we can use this information in feature engineering"
   ]
  },
  {
   "cell_type": "code",
   "execution_count": 91,
   "metadata": {
    "_uuid": "2dab99a02f74d4a3ff470f64f704f85aecafcd40"
   },
   "outputs": [],
   "source": [
    "#Checking for outliers in Age data\n",
    "sns.boxplot(x='Sex',y='Age',data=train_df)\n",
    "\n",
    "#getting the median age according to Sex\n",
    "train_df.groupby('Sex',as_index=False)['Age'].median()"
   ]
  },
  {
   "cell_type": "code",
   "execution_count": 92,
   "metadata": {
    "_uuid": "8a51ac77d187c95488572eb8bbac63a9f87f72ba"
   },
   "outputs": [],
   "source": [
    "#plotting the Fare column to see the spread of data\n",
    "sns.boxplot(\"Fare\",data=train_df)\n",
    "\n",
    "#Checking the mean and median values\n",
    "print(\"Mean value of Fare is :\",train_df.Fare.mean())\n",
    "print(\"Median value of Fare is :\",train_df.Fare.median())"
   ]
  },
  {
   "cell_type": "markdown",
   "metadata": {
    "_uuid": "ff7fce6bc46360a5ac005d7959b5b4060b44988e",
    "collapsed": true
   },
   "source": [
    "** 5)Cleaning Data ***\n",
    "\n",
    "Now that we have visualized our data , we can proceed to fill in the NaN values in our test and train datasets and drop the columns that we will not require"
   ]
  },
  {
   "cell_type": "code",
   "execution_count": 93,
   "metadata": {
    "_uuid": "2bb0295ff0388c959e9d8acabf334dcc934ee9e6"
   },
   "outputs": [],
   "source": [
    "#let's start off by dropping the coulmns we will not be needing\n",
    "drop_list=['Cabin','Ticket','PassengerId']\n",
    "\n",
    "train_df = train_df.drop(drop_list,axis=1)\n",
    "test_passenger_df = pd.DataFrame(test_df.PassengerId)\n",
    "test_df = test_df.drop(drop_list,axis=1)\n",
    "\n",
    "test_passenger_df.head()"
   ]
  },
  {
   "cell_type": "markdown",
   "metadata": {
    "_uuid": "a0e7b9ec7a4d828b4aec79be79a7acc039190adc"
   },
   "source": [
    "Now, let's fill in the missing values for Embarked column in the training dataset. Most people embarked on their journey from Southhampton port. Hence, we will be filling the  two missing values with \"S\""
   ]
  },
  {
   "cell_type": "code",
   "execution_count": 94,
   "metadata": {
    "_uuid": "6dc50aac4030b5abe4c44c90643647ec4190bed5",
    "collapsed": true
   },
   "outputs": [],
   "source": [
    "#filling the missing Embarked values in train and test datasets\n",
    "train_df.Embarked.fillna('S',inplace=True)"
   ]
  },
  {
   "cell_type": "markdown",
   "metadata": {
    "_uuid": "d7ddccf978f3db5a66e821388ffb087b447de7d4"
   },
   "source": [
    "We will replace the NaN values in the age column with the median age"
   ]
  },
  {
   "cell_type": "code",
   "execution_count": 95,
   "metadata": {
    "_uuid": "faa342aaaa6d2f11ae263c550452e641d843cf93",
    "collapsed": true
   },
   "outputs": [],
   "source": [
    "#filling the missing values in the Age column\n",
    "train_df.Age.fillna(28, inplace=True)\n",
    "test_df.Age.fillna(28, inplace=True)"
   ]
  },
  {
   "cell_type": "markdown",
   "metadata": {
    "_uuid": "19a2176e450a8a62e0c1238e03c07eea83b0e2d2"
   },
   "source": [
    "There is a small fraction of fare values missing in the fare column which we will fill using the median value since there a plenty of outliers in the data."
   ]
  },
  {
   "cell_type": "code",
   "execution_count": 96,
   "metadata": {
    "_uuid": "79990f4df37e08d1e098ef100039d6798d713cdd",
    "collapsed": true
   },
   "outputs": [],
   "source": [
    "#Filling the null Fare values in test dataset\n",
    "test_df.Fare.fillna(test_df.Fare.median(), inplace=True)"
   ]
  },
  {
   "cell_type": "markdown",
   "metadata": {
    "_uuid": "144574ede336ae474b708052f6562f9d101e9e07"
   },
   "source": [
    "**6) Feature Engineering**"
   ]
  },
  {
   "cell_type": "markdown",
   "metadata": {
    "_uuid": "dc8946017870f7835f678331853ae0243cccf4d8"
   },
   "source": [
    "*Title Feature*\n",
    "The name column might not be useful to us directly but a lot of names have titles like Mr, Mrs, Lady, etc which might indicate the individual's status in the society which can affect the chance of survival.\n",
    "\n",
    "We shall try to extract a *Title* feature form the name column which might improve the performanc of our model."
   ]
  },
  {
   "cell_type": "code",
   "execution_count": 97,
   "metadata": {
    "_uuid": "a7444c8ba9326f32e1834194a2eb8bfc15b469e3",
    "collapsed": true
   },
   "outputs": [],
   "source": [
    "#combining train and test dataframes to work with them simultaneously\n",
    "Combined_data = [train_df, test_df]"
   ]
  },
  {
   "cell_type": "code",
   "execution_count": 98,
   "metadata": {
    "_uuid": "a50bc02596f2835f51c893e6f0998210beaf20a4"
   },
   "outputs": [],
   "source": [
    "#extracting the various title in Names column\n",
    "for dataset in Combined_data:\n",
    "    dataset['Title'] = dataset.Name.str.extract(' ([A-Za-z]+)\\.', expand=False)\n",
    "\n",
    "#Plotting the various titles extracted from the names    \n",
    "sns.countplot(y='Title',data=train_df)  "
   ]
  },
  {
   "cell_type": "markdown",
   "metadata": {
    "_uuid": "c67c5125b779780a2ffaecef151decd0657a93ab"
   },
   "source": [
    "There are some titles that are very rare like Capt and Lady. It would be better to group such titles under one name know as 'rare'.\n",
    "Some titles also seem to be incorrectly spelled. They also need to be rectified."
   ]
  },
  {
   "cell_type": "code",
   "execution_count": 99,
   "metadata": {
    "_uuid": "5f6b73547cc98beb4ac124e3917a3e934a4e0d6d"
   },
   "outputs": [],
   "source": [
    "#Refining the title feature by merging some titles\n",
    "for dataset in Combined_data:\n",
    "    dataset['Title'] = dataset['Title'].replace(['Lady', 'Countess','Capt', 'Col',\\\n",
    " \t'Don', 'Dr', 'Major', 'Rev', 'Sir', 'Jonkheer', 'Dona'], 'Special')\n",
    "\n",
    "    dataset['Title'] = dataset['Title'].replace({'Mlle':'Miss','Ms':'Miss','Mme':'Mrs'})\n",
    "    \n",
    "train_df.groupby('Title',as_index=False)['Survived'].mean().sort_values(by='Survived',ascending=False)"
   ]
  },
  {
   "cell_type": "code",
   "execution_count": 100,
   "metadata": {
    "_uuid": "7c88ab6acb9f99174f493273d0a70c512d65c0aa"
   },
   "outputs": [],
   "source": [
    "#Now lets see the distribution of the title feature\n",
    "sns.countplot(y='Title',data=train_df)"
   ]
  },
  {
   "cell_type": "code",
   "execution_count": 101,
   "metadata": {
    "_uuid": "fed54564cffc62dc074787018297a1e439cab100",
    "collapsed": true
   },
   "outputs": [],
   "source": [
    "#Mapping the title names to numeric values\n",
    "title_mapping = {\"Mr\": 1, \"Miss\": 2, \"Mrs\": 3, \"Master\": 4, \"Special\": 5}\n",
    "for dataset in Combined_data:\n",
    "    dataset['Title'] = dataset.Title.map(title_mapping)\n",
    "    dataset['Title'] = dataset.Title.fillna(0)"
   ]
  },
  {
   "cell_type": "markdown",
   "metadata": {
    "_uuid": "64d1983bade22173e529ff6f4b6d282fbd1f0b4b"
   },
   "source": [
    "As we observed from our data visualization being alone on the titanic had a disadvantage when it came to survival:\n",
    "Next we will create a feature IsAlone which depends on the number of family members that can be calculated from the Parch and SibSp columns "
   ]
  },
  {
   "cell_type": "code",
   "execution_count": 102,
   "metadata": {
    "_uuid": "7ce6b12d940fe9be965b70feed008c8ac2676dfd"
   },
   "outputs": [],
   "source": [
    "#Creating a new feature IsAlone from the SibSp and Parch columns\n",
    "for dataset in Combined_data:\n",
    "    dataset[\"Family\"] = dataset['SibSp'] + dataset['Parch']\n",
    "    dataset[\"IsAlone\"] = np.where(dataset[\"Family\"] > 0, 0,1)\n",
    "    dataset.drop('Family',axis=1,inplace=True)\n",
    "train_df.head()    "
   ]
  },
  {
   "cell_type": "markdown",
   "metadata": {
    "_uuid": "0cfbc0e97e8b67affb60bbe8c9edf01fb3a3c0cb"
   },
   "source": [
    "Getting rid of the columns that are not required anymore:"
   ]
  },
  {
   "cell_type": "code",
   "execution_count": 103,
   "metadata": {
    "_uuid": "6f954f15f3d7305a68820511912f53c9f229c9ab",
    "collapsed": true
   },
   "outputs": [],
   "source": [
    "#dropping the Name,SibSP and Parch columns\n",
    "for dataset in Combined_data:\n",
    "    dataset.drop(['SibSp','Parch','Name'],axis=1,inplace=True)  "
   ]
  },
  {
   "cell_type": "markdown",
   "metadata": {
    "_uuid": "e96caee826dbef0b2155462583a1fac2696f6cf2"
   },
   "source": [
    "Age had big role to play when it came to survival. Clearly younger people were more likely to survive.\n",
    "Hence, it should be worth considering a feature IsMinor for the passengers under the age of 15."
   ]
  },
  {
   "cell_type": "code",
   "execution_count": 104,
   "metadata": {
    "_uuid": "7b865b112b837b5a3347461a4a78af074c88f5d7",
    "collapsed": true
   },
   "outputs": [],
   "source": [
    "#Creating another feature if the passenger is a child\n",
    "for dataset in Combined_data:\n",
    "    dataset[\"IsMinor\"] = np.where(dataset[\"Age\"] < 15, 1, 0)"
   ]
  },
  {
   "cell_type": "markdown",
   "metadata": {
    "_uuid": "e8ad94332647b489198bec0249e9cce3f3851268"
   },
   "source": [
    "Older female passengers also had a higher chance of survival. Let's create a feature name Old_female that would account for women older tha 50 years on board"
   ]
  },
  {
   "cell_type": "code",
   "execution_count": 105,
   "metadata": {
    "_uuid": "e93bcc0fab6827b99b13bbcfcf2f079ca494b640",
    "collapsed": true
   },
   "outputs": [],
   "source": [
    "train_df['Old_Female'] = (train_df['Age']>50)&(train_df['Sex']=='female')\n",
    "train_df['Old_Female'] = train_df['Old_Female'].astype(int)\n",
    "\n",
    "test_df['Old_Female'] = (test_df['Age']>50)&(test_df['Sex']=='female')\n",
    "test_df['Old_Female'] = test_df['Old_Female'].astype(int)"
   ]
  },
  {
   "cell_type": "markdown",
   "metadata": {
    "_uuid": "6c10680f0d2843b13ea49a4836e3c342d9b012eb"
   },
   "source": [
    "Pclass, Sex and Embarked are the categorical features in our data. we can convert these categorucal variables into dummy variables using the *get_dummies* method in python"
   ]
  },
  {
   "cell_type": "code",
   "execution_count": 106,
   "metadata": {
    "_uuid": "d08ee65977405cb89d4cde56dd887ee67f0679d6"
   },
   "outputs": [],
   "source": [
    "#Converting categorical variables into numerical ones\n",
    "train_df2 = pd.get_dummies(train_df,columns=['Pclass','Sex','Embarked'],drop_first=True)\n",
    "test_df2 = pd.get_dummies(test_df,columns=['Pclass','Sex','Embarked'],drop_first=True)\n",
    "train_df2.head()"
   ]
  },
  {
   "cell_type": "markdown",
   "metadata": {
    "_uuid": "af9bc6c7e0b145a80e6dfa713677db45a8240979"
   },
   "source": [
    "Age and Fare columns have continuous data and there might be fluctuations that do not reflect patterns in the data, which might be noise. That's why wel put people that are within a certain range of age or fare in the same bin. This can be achieved using *qcut* method in *pandas*"
   ]
  },
  {
   "cell_type": "code",
   "execution_count": 107,
   "metadata": {
    "_uuid": "e3c1675ab1b6293e5caf3e3f5813727eea8e0832",
    "collapsed": true
   },
   "outputs": [],
   "source": [
    "#creating Age bands\n",
    "train_df2['AgeBands'] = pd.qcut(train_df2.Age,4,labels=False) \n",
    "test_df2['AgeBands'] = pd.qcut(test_df2.Age,4,labels=False) "
   ]
  },
  {
   "cell_type": "code",
   "execution_count": 108,
   "metadata": {
    "_uuid": "af68cdedb7e7b1959d88fac999536b42aa8be1d7",
    "collapsed": true
   },
   "outputs": [],
   "source": [
    "#creating Fare bands\n",
    "train_df2['FareBand'] = pd.qcut(train_df2.Fare,7,labels=False)\n",
    "test_df2['FareBand'] = pd.qcut(test_df2.Fare,7,labels=False)"
   ]
  },
  {
   "cell_type": "code",
   "execution_count": 109,
   "metadata": {
    "_uuid": "afdb50313a6382ce22541292d77fdf81210fb866",
    "collapsed": true
   },
   "outputs": [],
   "source": [
    "#Dropping the Age and Fare columns\n",
    "train_df2.drop(['Age','Fare'],axis=1,inplace=True)\n",
    "test_df2.drop(['Age','Fare'],axis=1,inplace=True)"
   ]
  },
  {
   "cell_type": "markdown",
   "metadata": {
    "_uuid": "182e5e6e936d18dbc08a8ee3c66b55c465060170"
   },
   "source": [
    "Let's take a final look at our training and testing data before we proceed to build our model."
   ]
  },
  {
   "cell_type": "code",
   "execution_count": 110,
   "metadata": {
    "_uuid": "297a5a9578f8975dfddc73210f7f9d864ee170c1"
   },
   "outputs": [],
   "source": [
    "train_df2.head()\n",
    "#sns.barplot('AgeBands','Survived',data=train_df2)"
   ]
  },
  {
   "cell_type": "code",
   "execution_count": 111,
   "metadata": {
    "_uuid": "2245e77e8bca32c98996abd9c1e51a61673a34de"
   },
   "outputs": [],
   "source": [
    "test_df2.head()"
   ]
  },
  {
   "cell_type": "markdown",
   "metadata": {
    "_uuid": "550343a009b9b2cea8cb16aff2c853ffd5114999"
   },
   "source": [
    "**7) Machine Learning**\n",
    "\n",
    "We will try out some different ML models to see which gives us the best result.\n",
    "the process will be as follows:\n",
    "* Importing the required machine learning libraries from scikit learn.\n",
    "* Splitting out training data into train and test datasets to check the performance of our model.\n",
    "* Try out different classifying model to see which fits the best."
   ]
  },
  {
   "cell_type": "code",
   "execution_count": 112,
   "metadata": {
    "_uuid": "6ce4e5da8b9eed96c3fc1f464ddcac1fbd30555f",
    "collapsed": true
   },
   "outputs": [],
   "source": [
    "#importing the required ML libraries\n",
    "from sklearn.linear_model import LogisticRegression\n",
    "from sklearn.tree import DecisionTreeClassifier\n",
    "from sklearn.ensemble import RandomForestClassifier, GradientBoostingClassifier\n",
    "from sklearn.model_selection import train_test_split, cross_val_score, GridSearchCV\n",
    "from sklearn.metrics import accuracy_score"
   ]
  },
  {
   "cell_type": "code",
   "execution_count": 113,
   "metadata": {
    "_uuid": "f1e45a14064d3904a04a70d8ea4295fabfa7dde8",
    "collapsed": true
   },
   "outputs": [],
   "source": [
    "#Splitting out training data into X: features and y: target\n",
    "X = train_df2.drop(\"Survived\",axis=1) \n",
    "y = train_df2[\"Survived\"]\n",
    "\n",
    "#splitting our training data again in train and test data\n",
    "X_train, X_test, y_train, y_test = train_test_split(X, y, test_size=0.3,random_state=42)"
   ]
  },
  {
   "cell_type": "code",
   "execution_count": 114,
   "metadata": {
    "_uuid": "647fec750a5707859d1cbab9184cd2da1d7fd3e4"
   },
   "outputs": [],
   "source": [
    "#Logistic Regression\n",
    "logreg = LogisticRegression()\n",
    "logreg.fit(X_train,y_train)\n",
    "y_pred = logreg.predict(X_test)\n",
    "acc_logreg = round(accuracy_score(y_pred, y_test) * 100, 2)\n",
    "acc_logreg"
   ]
  },
  {
   "cell_type": "markdown",
   "metadata": {
    "_uuid": "3672cda23095026665476b748b7867ff8369d6fa"
   },
   "source": [
    "Our score also depends on how we had split our training data using *train_test_split*. We should also perform k-fold cross validation to get a more accurate score. Here we will be going with 5 folds."
   ]
  },
  {
   "cell_type": "code",
   "execution_count": 115,
   "metadata": {
    "_uuid": "0ba802b05ebf0c86b9a56e44390e2d30b0803602"
   },
   "outputs": [],
   "source": [
    "#let's perform some K-fold cross validation for logistic Regression\n",
    "cv_scores = cross_val_score(logreg,X,y,cv=5)\n",
    " \n",
    "np.mean(cv_scores)*100"
   ]
  },
  {
   "cell_type": "code",
   "execution_count": 116,
   "metadata": {
    "_uuid": "7dd5e3d8b9294d7c5cd6ae9df62dbc704a1b26ee"
   },
   "outputs": [],
   "source": [
    "#Decision Tree Classifier\n",
    "\n",
    "decisiontree = DecisionTreeClassifier()\n",
    "dep = np.arange(1,10)\n",
    "param_grid = {'max_depth' : dep}\n",
    "\n",
    "clf_cv = GridSearchCV(decisiontree, param_grid=param_grid, cv=5)\n",
    "\n",
    "clf_cv.fit(X, y)\n",
    "clf_cv.best_params_,clf_cv.best_score_*100\n",
    "print('Best value of max_depth:',clf_cv.best_params_)\n",
    "print('Best score:',clf_cv.best_score_*100)"
   ]
  },
  {
   "cell_type": "code",
   "execution_count": 117,
   "metadata": {
    "_uuid": "e8f651e0eece9cba1642df1ea368d3aaa947e085",
    "scrolled": true
   },
   "outputs": [],
   "source": [
    "#Random Forest CLassifier\n",
    "\n",
    "random_forest = RandomForestClassifier()\n",
    "ne = np.arange(1,20)\n",
    "param_grid = {'n_estimators' : ne}\n",
    "\n",
    "rf_cv = GridSearchCV(random_forest, param_grid=param_grid, cv=5)\n",
    "\n",
    "rf_cv.fit(X, y)\n",
    "print('Best value of n_estimators:',rf_cv.best_params_)\n",
    "print('Best score:',rf_cv.best_score_*100)"
   ]
  },
  {
   "cell_type": "code",
   "execution_count": 118,
   "metadata": {
    "_uuid": "1c6bc7ef7c4a5b83247ea570e1d01d8dda0613af"
   },
   "outputs": [],
   "source": [
    "gbk = GradientBoostingClassifier()\n",
    "ne = np.arange(1,20)\n",
    "dep = np.arange(1,10)\n",
    "param_grid = {'n_estimators' : ne,'max_depth' : dep}\n",
    "\n",
    "gbk_cv = GridSearchCV(gbk, param_grid=param_grid, cv=5)\n",
    "\n",
    "gbk_cv.fit(X, y)\n",
    "print('Best value of parameters:',gbk_cv.best_params_)\n",
    "print('Best score:',gbk_cv.best_score_*100)\n"
   ]
  },
  {
   "cell_type": "markdown",
   "metadata": {
    "_uuid": "2af1765ceafc960ae35e9bd2ef6725975b5ece19"
   },
   "source": [
    "**7) Submission.**\n",
    "Finally, we are ready to submit our solution to see where we rank. To do so we need to make a submission.csv file that contains only the PassengerId and our predictions for those ID's."
   ]
  },
  {
   "cell_type": "code",
   "execution_count": 119,
   "metadata": {
    "_uuid": "dff1bc19b95dae6e7e69524e63dfde743ed688f9",
    "collapsed": true
   },
   "outputs": [],
   "source": [
    "y_final = clf_cv.predict(test_df2)\n",
    "\n",
    "submission = pd.DataFrame({\n",
    "        \"PassengerId\": test_passenger_df[\"PassengerId\"],\n",
    "        \"Survived\": y_final\n",
    "    })\n",
    "submission.head()\n",
    "submission.to_csv('Titanic Output.csv', index=False)"
   ]
  }
 ],
 "metadata": {
  "kernelspec": {
   "display_name": "Python 3 (ipykernel)",
   "language": "python",
   "name": "python3"
  },
  "language_info": {
   "codemirror_mode": {
    "name": "ipython",
    "version": 3
   },
   "file_extension": ".py",
   "mimetype": "text/x-python",
   "name": "python",
   "nbconvert_exporter": "python",
   "pygments_lexer": "ipython3",
   "version": "3.9.16"
  }
 },
 "nbformat": 4,
 "nbformat_minor": 1
}
